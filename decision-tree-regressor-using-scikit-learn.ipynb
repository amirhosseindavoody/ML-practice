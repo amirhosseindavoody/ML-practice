{
 "cells": [
  {
   "cell_type": "markdown",
   "id": "7215d2b7",
   "metadata": {
    "papermill": {
     "duration": 0.007083,
     "end_time": "2023-02-25T00:30:48.571093",
     "exception": false,
     "start_time": "2023-02-25T00:30:48.564010",
     "status": "completed"
    },
    "tags": []
   },
   "source": [
    "**This notebook is an exercise in the [Introduction to Machine Learning](https://www.kaggle.com/learn/intro-to-machine-learning) course.  You can reference the tutorial at [this link](https://www.kaggle.com/dansbecker/your-first-machine-learning-model).**\n",
    "\n",
    "---\n"
   ]
  },
  {
   "cell_type": "markdown",
   "id": "1b31f1f8",
   "metadata": {
    "papermill": {
     "duration": 0.005424,
     "end_time": "2023-02-25T00:30:48.582434",
     "exception": false,
     "start_time": "2023-02-25T00:30:48.577010",
     "status": "completed"
    },
    "tags": []
   },
   "source": [
    "## Recap\n",
    "So far, you have loaded your data and reviewed it with the following code. Run this cell to set up your coding environment where the previous step left off."
   ]
  },
  {
   "cell_type": "code",
   "execution_count": 1,
   "id": "b58a18c3",
   "metadata": {
    "execution": {
     "iopub.execute_input": "2023-02-25T00:30:48.598464Z",
     "iopub.status.busy": "2023-02-25T00:30:48.598082Z",
     "iopub.status.idle": "2023-02-25T00:30:49.964773Z",
     "shell.execute_reply": "2023-02-25T00:30:49.963532Z"
    },
    "papermill": {
     "duration": 1.37917,
     "end_time": "2023-02-25T00:30:49.967769",
     "exception": false,
     "start_time": "2023-02-25T00:30:48.588599",
     "status": "completed"
    },
    "tags": []
   },
   "outputs": [
    {
     "name": "stdout",
     "output_type": "stream",
     "text": [
      "Setup Complete\n"
     ]
    }
   ],
   "source": [
    "# Code you have previously used to load data\n",
    "import pandas as pd\n",
    "import matplotlib.pyplot as plt\n",
    "\n",
    "# Path of the file to read\n",
    "iowa_file_path = '../input/home-data-for-ml-course/train.csv'\n",
    "\n",
    "home_data = pd.read_csv(iowa_file_path)\n",
    "\n",
    "# Set up code checking\n",
    "from learntools.core import binder\n",
    "binder.bind(globals())\n",
    "from learntools.machine_learning.ex3 import *\n",
    "\n",
    "print(\"Setup Complete\")"
   ]
  },
  {
   "cell_type": "markdown",
   "id": "91c78a41",
   "metadata": {
    "papermill": {
     "duration": 0.005728,
     "end_time": "2023-02-25T00:30:49.979580",
     "exception": false,
     "start_time": "2023-02-25T00:30:49.973852",
     "status": "completed"
    },
    "tags": []
   },
   "source": [
    "# Exercises\n",
    "\n",
    "## Step 1: Specify Prediction Target\n",
    "Select the target variable, which corresponds to the sales price. Save this to a new variable called `y`. You'll need to print a list of the columns to find the name of the column you need.\n"
   ]
  },
  {
   "cell_type": "code",
   "execution_count": 2,
   "id": "2fc7cd49",
   "metadata": {
    "execution": {
     "iopub.execute_input": "2023-02-25T00:30:49.993264Z",
     "iopub.status.busy": "2023-02-25T00:30:49.992863Z",
     "iopub.status.idle": "2023-02-25T00:30:50.001304Z",
     "shell.execute_reply": "2023-02-25T00:30:50.000155Z"
    },
    "papermill": {
     "duration": 0.018441,
     "end_time": "2023-02-25T00:30:50.003729",
     "exception": false,
     "start_time": "2023-02-25T00:30:49.985288",
     "status": "completed"
    },
    "tags": []
   },
   "outputs": [
    {
     "data": {
      "text/plain": [
       "Index(['Id', 'MSSubClass', 'MSZoning', 'LotFrontage', 'LotArea', 'Street',\n",
       "       'Alley', 'LotShape', 'LandContour', 'Utilities', 'LotConfig',\n",
       "       'LandSlope', 'Neighborhood', 'Condition1', 'Condition2', 'BldgType',\n",
       "       'HouseStyle', 'OverallQual', 'OverallCond', 'YearBuilt', 'YearRemodAdd',\n",
       "       'RoofStyle', 'RoofMatl', 'Exterior1st', 'Exterior2nd', 'MasVnrType',\n",
       "       'MasVnrArea', 'ExterQual', 'ExterCond', 'Foundation', 'BsmtQual',\n",
       "       'BsmtCond', 'BsmtExposure', 'BsmtFinType1', 'BsmtFinSF1',\n",
       "       'BsmtFinType2', 'BsmtFinSF2', 'BsmtUnfSF', 'TotalBsmtSF', 'Heating',\n",
       "       'HeatingQC', 'CentralAir', 'Electrical', '1stFlrSF', '2ndFlrSF',\n",
       "       'LowQualFinSF', 'GrLivArea', 'BsmtFullBath', 'BsmtHalfBath', 'FullBath',\n",
       "       'HalfBath', 'BedroomAbvGr', 'KitchenAbvGr', 'KitchenQual',\n",
       "       'TotRmsAbvGrd', 'Functional', 'Fireplaces', 'FireplaceQu', 'GarageType',\n",
       "       'GarageYrBlt', 'GarageFinish', 'GarageCars', 'GarageArea', 'GarageQual',\n",
       "       'GarageCond', 'PavedDrive', 'WoodDeckSF', 'OpenPorchSF',\n",
       "       'EnclosedPorch', '3SsnPorch', 'ScreenPorch', 'PoolArea', 'PoolQC',\n",
       "       'Fence', 'MiscFeature', 'MiscVal', 'MoSold', 'YrSold', 'SaleType',\n",
       "       'SaleCondition', 'SalePrice'],\n",
       "      dtype='object')"
      ]
     },
     "execution_count": 2,
     "metadata": {},
     "output_type": "execute_result"
    }
   ],
   "source": [
    "# print the list of columns in the dataset to find the name of the prediction target\n",
    "home_data.columns"
   ]
  },
  {
   "cell_type": "code",
   "execution_count": 3,
   "id": "acf817b0",
   "metadata": {
    "execution": {
     "iopub.execute_input": "2023-02-25T00:30:50.017197Z",
     "iopub.status.busy": "2023-02-25T00:30:50.016796Z",
     "iopub.status.idle": "2023-02-25T00:30:50.033187Z",
     "shell.execute_reply": "2023-02-25T00:30:50.032154Z"
    },
    "papermill": {
     "duration": 0.02584,
     "end_time": "2023-02-25T00:30:50.035496",
     "exception": false,
     "start_time": "2023-02-25T00:30:50.009656",
     "status": "completed"
    },
    "tags": []
   },
   "outputs": [
    {
     "data": {
      "application/javascript": [
       "parent.postMessage({\"jupyterEvent\": \"custom.exercise_interaction\", \"data\": {\"outcomeType\": 1, \"valueTowardsCompletion\": 0.25, \"interactionType\": 1, \"questionType\": 2, \"questionId\": \"1_SetTarget\", \"learnToolsVersion\": \"0.3.4\", \"failureMessage\": \"\", \"exceptionClass\": \"\", \"trace\": \"\"}}, \"*\")"
      ],
      "text/plain": [
       "<IPython.core.display.Javascript object>"
      ]
     },
     "metadata": {},
     "output_type": "display_data"
    },
    {
     "data": {
      "text/markdown": [
       "<span style=\"color:#33cc33\">Correct</span>"
      ],
      "text/plain": [
       "Correct"
      ]
     },
     "metadata": {},
     "output_type": "display_data"
    }
   ],
   "source": [
    "y = home_data.SalePrice\n",
    "\n",
    "# Check your answer\n",
    "step_1.check()"
   ]
  },
  {
   "cell_type": "code",
   "execution_count": 4,
   "id": "cd1da297",
   "metadata": {
    "execution": {
     "iopub.execute_input": "2023-02-25T00:30:50.050579Z",
     "iopub.status.busy": "2023-02-25T00:30:50.050190Z",
     "iopub.status.idle": "2023-02-25T00:30:50.054619Z",
     "shell.execute_reply": "2023-02-25T00:30:50.053398Z"
    },
    "papermill": {
     "duration": 0.015015,
     "end_time": "2023-02-25T00:30:50.056831",
     "exception": false,
     "start_time": "2023-02-25T00:30:50.041816",
     "status": "completed"
    },
    "tags": []
   },
   "outputs": [],
   "source": [
    "# The lines below will show you a hint or the solution.\n",
    "# step_1.hint() \n",
    "# step_1.solution()"
   ]
  },
  {
   "cell_type": "markdown",
   "id": "46662bc6",
   "metadata": {
    "papermill": {
     "duration": 0.00632,
     "end_time": "2023-02-25T00:30:50.069332",
     "exception": false,
     "start_time": "2023-02-25T00:30:50.063012",
     "status": "completed"
    },
    "tags": []
   },
   "source": [
    "## Step 2: Create X\n",
    "Now you will create a DataFrame called `X` holding the predictive features.\n",
    "\n",
    "Since you want only some columns from the original data, you'll first create a list with the names of the columns you want in `X`.\n",
    "\n",
    "You'll use just the following columns in the list (you can copy and paste the whole list to save some typing, though you'll still need to add quotes):\n",
    "  * LotArea\n",
    "  * YearBuilt\n",
    "  * 1stFlrSF\n",
    "  * 2ndFlrSF\n",
    "  * FullBath\n",
    "  * BedroomAbvGr\n",
    "  * TotRmsAbvGrd\n",
    "\n",
    "After you've created that list of features, use it to create the DataFrame that you'll use to fit the model."
   ]
  },
  {
   "cell_type": "code",
   "execution_count": 5,
   "id": "a6115f7b",
   "metadata": {
    "execution": {
     "iopub.execute_input": "2023-02-25T00:30:50.083350Z",
     "iopub.status.busy": "2023-02-25T00:30:50.082968Z",
     "iopub.status.idle": "2023-02-25T00:30:50.095758Z",
     "shell.execute_reply": "2023-02-25T00:30:50.094925Z"
    },
    "papermill": {
     "duration": 0.022679,
     "end_time": "2023-02-25T00:30:50.097986",
     "exception": false,
     "start_time": "2023-02-25T00:30:50.075307",
     "status": "completed"
    },
    "tags": []
   },
   "outputs": [
    {
     "data": {
      "application/javascript": [
       "parent.postMessage({\"jupyterEvent\": \"custom.exercise_interaction\", \"data\": {\"outcomeType\": 1, \"valueTowardsCompletion\": 0.25, \"interactionType\": 1, \"questionType\": 2, \"questionId\": \"2_SelectPredictionData\", \"learnToolsVersion\": \"0.3.4\", \"failureMessage\": \"\", \"exceptionClass\": \"\", \"trace\": \"\"}}, \"*\")"
      ],
      "text/plain": [
       "<IPython.core.display.Javascript object>"
      ]
     },
     "metadata": {},
     "output_type": "display_data"
    },
    {
     "data": {
      "text/markdown": [
       "<span style=\"color:#33cc33\">Correct</span>"
      ],
      "text/plain": [
       "Correct"
      ]
     },
     "metadata": {},
     "output_type": "display_data"
    }
   ],
   "source": [
    "# Create the list of features below\n",
    "feature_names = ['LotArea', 'YearBuilt', '1stFlrSF', '2ndFlrSF', 'FullBath', 'BedroomAbvGr', 'TotRmsAbvGrd']\n",
    "\n",
    "# Select data corresponding to features in feature_names\n",
    "X = home_data[feature_names]\n",
    "\n",
    "# Check your answer\n",
    "step_2.check()"
   ]
  },
  {
   "cell_type": "code",
   "execution_count": 6,
   "id": "6ba0bebf",
   "metadata": {
    "execution": {
     "iopub.execute_input": "2023-02-25T00:30:50.113286Z",
     "iopub.status.busy": "2023-02-25T00:30:50.112468Z",
     "iopub.status.idle": "2023-02-25T00:30:50.117699Z",
     "shell.execute_reply": "2023-02-25T00:30:50.116427Z"
    },
    "papermill": {
     "duration": 0.015401,
     "end_time": "2023-02-25T00:30:50.119996",
     "exception": false,
     "start_time": "2023-02-25T00:30:50.104595",
     "status": "completed"
    },
    "tags": []
   },
   "outputs": [],
   "source": [
    "# step_2.hint()\n",
    "# step_2.solution()"
   ]
  },
  {
   "cell_type": "markdown",
   "id": "cecf481b",
   "metadata": {
    "papermill": {
     "duration": 0.006451,
     "end_time": "2023-02-25T00:30:50.133289",
     "exception": false,
     "start_time": "2023-02-25T00:30:50.126838",
     "status": "completed"
    },
    "tags": []
   },
   "source": [
    "## Review Data\n",
    "Before building a model, take a quick look at **X** to verify it looks sensible"
   ]
  },
  {
   "cell_type": "code",
   "execution_count": 7,
   "id": "66f27637",
   "metadata": {
    "execution": {
     "iopub.execute_input": "2023-02-25T00:30:50.148812Z",
     "iopub.status.busy": "2023-02-25T00:30:50.148384Z",
     "iopub.status.idle": "2023-02-25T00:30:50.181625Z",
     "shell.execute_reply": "2023-02-25T00:30:50.180518Z"
    },
    "papermill": {
     "duration": 0.043528,
     "end_time": "2023-02-25T00:30:50.184278",
     "exception": false,
     "start_time": "2023-02-25T00:30:50.140750",
     "status": "completed"
    },
    "tags": []
   },
   "outputs": [
    {
     "data": {
      "text/html": [
       "<div>\n",
       "<style scoped>\n",
       "    .dataframe tbody tr th:only-of-type {\n",
       "        vertical-align: middle;\n",
       "    }\n",
       "\n",
       "    .dataframe tbody tr th {\n",
       "        vertical-align: top;\n",
       "    }\n",
       "\n",
       "    .dataframe thead th {\n",
       "        text-align: right;\n",
       "    }\n",
       "</style>\n",
       "<table border=\"1\" class=\"dataframe\">\n",
       "  <thead>\n",
       "    <tr style=\"text-align: right;\">\n",
       "      <th></th>\n",
       "      <th>LotArea</th>\n",
       "      <th>YearBuilt</th>\n",
       "      <th>1stFlrSF</th>\n",
       "      <th>2ndFlrSF</th>\n",
       "      <th>FullBath</th>\n",
       "      <th>BedroomAbvGr</th>\n",
       "      <th>TotRmsAbvGrd</th>\n",
       "    </tr>\n",
       "  </thead>\n",
       "  <tbody>\n",
       "    <tr>\n",
       "      <th>0</th>\n",
       "      <td>8450</td>\n",
       "      <td>2003</td>\n",
       "      <td>856</td>\n",
       "      <td>854</td>\n",
       "      <td>2</td>\n",
       "      <td>3</td>\n",
       "      <td>8</td>\n",
       "    </tr>\n",
       "    <tr>\n",
       "      <th>1</th>\n",
       "      <td>9600</td>\n",
       "      <td>1976</td>\n",
       "      <td>1262</td>\n",
       "      <td>0</td>\n",
       "      <td>2</td>\n",
       "      <td>3</td>\n",
       "      <td>6</td>\n",
       "    </tr>\n",
       "    <tr>\n",
       "      <th>2</th>\n",
       "      <td>11250</td>\n",
       "      <td>2001</td>\n",
       "      <td>920</td>\n",
       "      <td>866</td>\n",
       "      <td>2</td>\n",
       "      <td>3</td>\n",
       "      <td>6</td>\n",
       "    </tr>\n",
       "    <tr>\n",
       "      <th>3</th>\n",
       "      <td>9550</td>\n",
       "      <td>1915</td>\n",
       "      <td>961</td>\n",
       "      <td>756</td>\n",
       "      <td>1</td>\n",
       "      <td>3</td>\n",
       "      <td>7</td>\n",
       "    </tr>\n",
       "    <tr>\n",
       "      <th>4</th>\n",
       "      <td>14260</td>\n",
       "      <td>2000</td>\n",
       "      <td>1145</td>\n",
       "      <td>1053</td>\n",
       "      <td>2</td>\n",
       "      <td>4</td>\n",
       "      <td>9</td>\n",
       "    </tr>\n",
       "    <tr>\n",
       "      <th>...</th>\n",
       "      <td>...</td>\n",
       "      <td>...</td>\n",
       "      <td>...</td>\n",
       "      <td>...</td>\n",
       "      <td>...</td>\n",
       "      <td>...</td>\n",
       "      <td>...</td>\n",
       "    </tr>\n",
       "    <tr>\n",
       "      <th>1455</th>\n",
       "      <td>7917</td>\n",
       "      <td>1999</td>\n",
       "      <td>953</td>\n",
       "      <td>694</td>\n",
       "      <td>2</td>\n",
       "      <td>3</td>\n",
       "      <td>7</td>\n",
       "    </tr>\n",
       "    <tr>\n",
       "      <th>1456</th>\n",
       "      <td>13175</td>\n",
       "      <td>1978</td>\n",
       "      <td>2073</td>\n",
       "      <td>0</td>\n",
       "      <td>2</td>\n",
       "      <td>3</td>\n",
       "      <td>7</td>\n",
       "    </tr>\n",
       "    <tr>\n",
       "      <th>1457</th>\n",
       "      <td>9042</td>\n",
       "      <td>1941</td>\n",
       "      <td>1188</td>\n",
       "      <td>1152</td>\n",
       "      <td>2</td>\n",
       "      <td>4</td>\n",
       "      <td>9</td>\n",
       "    </tr>\n",
       "    <tr>\n",
       "      <th>1458</th>\n",
       "      <td>9717</td>\n",
       "      <td>1950</td>\n",
       "      <td>1078</td>\n",
       "      <td>0</td>\n",
       "      <td>1</td>\n",
       "      <td>2</td>\n",
       "      <td>5</td>\n",
       "    </tr>\n",
       "    <tr>\n",
       "      <th>1459</th>\n",
       "      <td>9937</td>\n",
       "      <td>1965</td>\n",
       "      <td>1256</td>\n",
       "      <td>0</td>\n",
       "      <td>1</td>\n",
       "      <td>3</td>\n",
       "      <td>6</td>\n",
       "    </tr>\n",
       "  </tbody>\n",
       "</table>\n",
       "<p>1460 rows × 7 columns</p>\n",
       "</div>"
      ],
      "text/plain": [
       "      LotArea  YearBuilt  1stFlrSF  2ndFlrSF  FullBath  BedroomAbvGr  \\\n",
       "0        8450       2003       856       854         2             3   \n",
       "1        9600       1976      1262         0         2             3   \n",
       "2       11250       2001       920       866         2             3   \n",
       "3        9550       1915       961       756         1             3   \n",
       "4       14260       2000      1145      1053         2             4   \n",
       "...       ...        ...       ...       ...       ...           ...   \n",
       "1455     7917       1999       953       694         2             3   \n",
       "1456    13175       1978      2073         0         2             3   \n",
       "1457     9042       1941      1188      1152         2             4   \n",
       "1458     9717       1950      1078         0         1             2   \n",
       "1459     9937       1965      1256         0         1             3   \n",
       "\n",
       "      TotRmsAbvGrd  \n",
       "0                8  \n",
       "1                6  \n",
       "2                6  \n",
       "3                7  \n",
       "4                9  \n",
       "...            ...  \n",
       "1455             7  \n",
       "1456             7  \n",
       "1457             9  \n",
       "1458             5  \n",
       "1459             6  \n",
       "\n",
       "[1460 rows x 7 columns]"
      ]
     },
     "metadata": {},
     "output_type": "display_data"
    },
    {
     "data": {
      "text/html": [
       "<div>\n",
       "<style scoped>\n",
       "    .dataframe tbody tr th:only-of-type {\n",
       "        vertical-align: middle;\n",
       "    }\n",
       "\n",
       "    .dataframe tbody tr th {\n",
       "        vertical-align: top;\n",
       "    }\n",
       "\n",
       "    .dataframe thead th {\n",
       "        text-align: right;\n",
       "    }\n",
       "</style>\n",
       "<table border=\"1\" class=\"dataframe\">\n",
       "  <thead>\n",
       "    <tr style=\"text-align: right;\">\n",
       "      <th></th>\n",
       "      <th>LotArea</th>\n",
       "      <th>YearBuilt</th>\n",
       "      <th>1stFlrSF</th>\n",
       "      <th>2ndFlrSF</th>\n",
       "      <th>FullBath</th>\n",
       "      <th>BedroomAbvGr</th>\n",
       "      <th>TotRmsAbvGrd</th>\n",
       "    </tr>\n",
       "  </thead>\n",
       "  <tbody>\n",
       "    <tr>\n",
       "      <th>0</th>\n",
       "      <td>8450</td>\n",
       "      <td>2003</td>\n",
       "      <td>856</td>\n",
       "      <td>854</td>\n",
       "      <td>2</td>\n",
       "      <td>3</td>\n",
       "      <td>8</td>\n",
       "    </tr>\n",
       "    <tr>\n",
       "      <th>1</th>\n",
       "      <td>9600</td>\n",
       "      <td>1976</td>\n",
       "      <td>1262</td>\n",
       "      <td>0</td>\n",
       "      <td>2</td>\n",
       "      <td>3</td>\n",
       "      <td>6</td>\n",
       "    </tr>\n",
       "    <tr>\n",
       "      <th>2</th>\n",
       "      <td>11250</td>\n",
       "      <td>2001</td>\n",
       "      <td>920</td>\n",
       "      <td>866</td>\n",
       "      <td>2</td>\n",
       "      <td>3</td>\n",
       "      <td>6</td>\n",
       "    </tr>\n",
       "    <tr>\n",
       "      <th>3</th>\n",
       "      <td>9550</td>\n",
       "      <td>1915</td>\n",
       "      <td>961</td>\n",
       "      <td>756</td>\n",
       "      <td>1</td>\n",
       "      <td>3</td>\n",
       "      <td>7</td>\n",
       "    </tr>\n",
       "    <tr>\n",
       "      <th>4</th>\n",
       "      <td>14260</td>\n",
       "      <td>2000</td>\n",
       "      <td>1145</td>\n",
       "      <td>1053</td>\n",
       "      <td>2</td>\n",
       "      <td>4</td>\n",
       "      <td>9</td>\n",
       "    </tr>\n",
       "  </tbody>\n",
       "</table>\n",
       "</div>"
      ],
      "text/plain": [
       "   LotArea  YearBuilt  1stFlrSF  2ndFlrSF  FullBath  BedroomAbvGr  \\\n",
       "0     8450       2003       856       854         2             3   \n",
       "1     9600       1976      1262         0         2             3   \n",
       "2    11250       2001       920       866         2             3   \n",
       "3     9550       1915       961       756         1             3   \n",
       "4    14260       2000      1145      1053         2             4   \n",
       "\n",
       "   TotRmsAbvGrd  \n",
       "0             8  \n",
       "1             6  \n",
       "2             6  \n",
       "3             7  \n",
       "4             9  "
      ]
     },
     "metadata": {},
     "output_type": "display_data"
    }
   ],
   "source": [
    "# Review data\n",
    "# print description or statistics from X\n",
    "display(X)\n",
    "\n",
    "# print the top few lines\n",
    "display(X.head())"
   ]
  },
  {
   "cell_type": "markdown",
   "id": "33ec3acd",
   "metadata": {
    "papermill": {
     "duration": 0.006613,
     "end_time": "2023-02-25T00:30:50.197931",
     "exception": false,
     "start_time": "2023-02-25T00:30:50.191318",
     "status": "completed"
    },
    "tags": []
   },
   "source": [
    "## Step 3: Specify and Fit Model\n",
    "Create a `DecisionTreeRegressor` and save it `iowa_model`. Ensure you've done the relevant import from sklearn to run this command.\n",
    "\n",
    "Then fit the model you just created using the data in `X` and `y` that you saved above."
   ]
  },
  {
   "cell_type": "code",
   "execution_count": 8,
   "id": "f3068ff2",
   "metadata": {
    "execution": {
     "iopub.execute_input": "2023-02-25T00:30:50.214402Z",
     "iopub.status.busy": "2023-02-25T00:30:50.213438Z",
     "iopub.status.idle": "2023-02-25T00:30:50.235744Z",
     "shell.execute_reply": "2023-02-25T00:30:50.234629Z"
    },
    "papermill": {
     "duration": 0.033299,
     "end_time": "2023-02-25T00:30:50.238127",
     "exception": false,
     "start_time": "2023-02-25T00:30:50.204828",
     "status": "completed"
    },
    "tags": []
   },
   "outputs": [
    {
     "name": "stdout",
     "output_type": "stream",
     "text": [
      "0.9690546018842326\n"
     ]
    },
    {
     "data": {
      "application/javascript": [
       "parent.postMessage({\"jupyterEvent\": \"custom.exercise_interaction\", \"data\": {\"outcomeType\": 1, \"valueTowardsCompletion\": 0.25, \"interactionType\": 1, \"questionType\": 2, \"questionId\": \"3_CreateModel\", \"learnToolsVersion\": \"0.3.4\", \"failureMessage\": \"\", \"exceptionClass\": \"\", \"trace\": \"\"}}, \"*\")"
      ],
      "text/plain": [
       "<IPython.core.display.Javascript object>"
      ]
     },
     "metadata": {},
     "output_type": "display_data"
    },
    {
     "data": {
      "text/markdown": [
       "<span style=\"color:#33cc33\">Correct</span>"
      ],
      "text/plain": [
       "Correct"
      ]
     },
     "metadata": {},
     "output_type": "display_data"
    }
   ],
   "source": [
    "from sklearn.tree import DecisionTreeRegressor\n",
    "#specify the model. \n",
    "#For model reproducibility, set a numeric value for random_state when specifying the model\n",
    "iowa_model = DecisionTreeRegressor(random_state=1, max_depth=10)\n",
    "\n",
    "# Fit the model\n",
    "iowa_model.fit(X, y)\n",
    "\n",
    "print(iowa_model.score(X, y))\n",
    "\n",
    "# Check your answer\n",
    "step_3.check()"
   ]
  },
  {
   "cell_type": "markdown",
   "id": "8b1ee9e9",
   "metadata": {
    "papermill": {
     "duration": 0.006987,
     "end_time": "2023-02-25T00:30:50.252370",
     "exception": false,
     "start_time": "2023-02-25T00:30:50.245383",
     "status": "completed"
    },
    "tags": []
   },
   "source": [
    "## Inspect the fitted model"
   ]
  },
  {
   "cell_type": "code",
   "execution_count": 9,
   "id": "b23bf809",
   "metadata": {
    "execution": {
     "iopub.execute_input": "2023-02-25T00:30:50.269625Z",
     "iopub.status.busy": "2023-02-25T00:30:50.268601Z",
     "iopub.status.idle": "2023-02-25T00:30:50.280130Z",
     "shell.execute_reply": "2023-02-25T00:30:50.278549Z"
    },
    "papermill": {
     "duration": 0.022914,
     "end_time": "2023-02-25T00:30:50.283060",
     "exception": false,
     "start_time": "2023-02-25T00:30:50.260146",
     "status": "completed"
    },
    "tags": []
   },
   "outputs": [
    {
     "name": "stdout",
     "output_type": "stream",
     "text": [
      "Tree depth: 10\n",
      "Number of leaves: 399\n",
      "Model score for the training data: 0.9690546018842326\n",
      "Model parameters:\n",
      "{'ccp_alpha': 0.0, 'criterion': 'squared_error', 'max_depth': 10, 'max_features': None, 'max_leaf_nodes': None, 'min_impurity_decrease': 0.0, 'min_samples_leaf': 1, 'min_samples_split': 2, 'min_weight_fraction_leaf': 0.0, 'random_state': 1, 'splitter': 'best'}\n"
     ]
    }
   ],
   "source": [
    "import pprint\n",
    "print(f\"Tree depth: {iowa_model.get_depth()}\")\n",
    "print(f\"Number of leaves: {iowa_model.get_n_leaves()}\")\n",
    "print(f\"Model score for the training data: {iowa_model.score(X, y)}\")\n",
    "print(f\"Model parameters:\\n{iowa_model.get_params()}\")"
   ]
  },
  {
   "cell_type": "code",
   "execution_count": 10,
   "id": "e8b8a4f9",
   "metadata": {
    "execution": {
     "iopub.execute_input": "2023-02-25T00:30:50.300404Z",
     "iopub.status.busy": "2023-02-25T00:30:50.299353Z",
     "iopub.status.idle": "2023-02-25T00:30:50.304877Z",
     "shell.execute_reply": "2023-02-25T00:30:50.303784Z"
    },
    "papermill": {
     "duration": 0.016738,
     "end_time": "2023-02-25T00:30:50.307201",
     "exception": false,
     "start_time": "2023-02-25T00:30:50.290463",
     "status": "completed"
    },
    "tags": []
   },
   "outputs": [],
   "source": [
    "# step_3.hint()\n",
    "# step_3.solution()"
   ]
  },
  {
   "cell_type": "markdown",
   "id": "d87a6d5e",
   "metadata": {
    "papermill": {
     "duration": 0.007254,
     "end_time": "2023-02-25T00:30:50.321883",
     "exception": false,
     "start_time": "2023-02-25T00:30:50.314629",
     "status": "completed"
    },
    "tags": []
   },
   "source": [
    "## Step 4: Make Predictions\n",
    "Make predictions with the model's `predict` command using `X` as the data. Save the results to a variable called `predictions`."
   ]
  },
  {
   "cell_type": "code",
   "execution_count": 11,
   "id": "12563701",
   "metadata": {
    "execution": {
     "iopub.execute_input": "2023-02-25T00:30:50.338591Z",
     "iopub.status.busy": "2023-02-25T00:30:50.337986Z",
     "iopub.status.idle": "2023-02-25T00:30:50.352526Z",
     "shell.execute_reply": "2023-02-25T00:30:50.350734Z"
    },
    "papermill": {
     "duration": 0.025817,
     "end_time": "2023-02-25T00:30:50.355136",
     "exception": false,
     "start_time": "2023-02-25T00:30:50.329319",
     "status": "completed"
    },
    "tags": []
   },
   "outputs": [
    {
     "name": "stdout",
     "output_type": "stream",
     "text": [
      "[216550.         161754.16666667 216550.         ... 266500.\n",
      " 133442.64705882 151802.56410256]\n"
     ]
    },
    {
     "data": {
      "application/javascript": [
       "parent.postMessage({\"jupyterEvent\": \"custom.exercise_interaction\", \"data\": {\"outcomeType\": 1, \"valueTowardsCompletion\": 0.25, \"interactionType\": 1, \"questionType\": 2, \"questionId\": \"4_MakePredictions\", \"learnToolsVersion\": \"0.3.4\", \"failureMessage\": \"\", \"exceptionClass\": \"\", \"trace\": \"\"}}, \"*\")"
      ],
      "text/plain": [
       "<IPython.core.display.Javascript object>"
      ]
     },
     "metadata": {},
     "output_type": "display_data"
    },
    {
     "data": {
      "text/markdown": [
       "<span style=\"color:#33cc33\">Correct</span>"
      ],
      "text/plain": [
       "Correct"
      ]
     },
     "metadata": {},
     "output_type": "display_data"
    }
   ],
   "source": [
    "predictions = iowa_model.predict(X)\n",
    "print(predictions)\n",
    "\n",
    "# Check your answer\n",
    "step_4.check()"
   ]
  },
  {
   "cell_type": "code",
   "execution_count": 12,
   "id": "6927eb71",
   "metadata": {
    "execution": {
     "iopub.execute_input": "2023-02-25T00:30:50.372530Z",
     "iopub.status.busy": "2023-02-25T00:30:50.372142Z",
     "iopub.status.idle": "2023-02-25T00:30:50.377177Z",
     "shell.execute_reply": "2023-02-25T00:30:50.375910Z"
    },
    "papermill": {
     "duration": 0.016579,
     "end_time": "2023-02-25T00:30:50.379585",
     "exception": false,
     "start_time": "2023-02-25T00:30:50.363006",
     "status": "completed"
    },
    "tags": []
   },
   "outputs": [],
   "source": [
    "# step_4.hint()\n",
    "# step_4.solution()"
   ]
  },
  {
   "cell_type": "markdown",
   "id": "f3acc71c",
   "metadata": {
    "papermill": {
     "duration": 0.007457,
     "end_time": "2023-02-25T00:30:50.394846",
     "exception": false,
     "start_time": "2023-02-25T00:30:50.387389",
     "status": "completed"
    },
    "tags": []
   },
   "source": [
    "## Think About Your Results\n",
    "\n",
    "Use the `head` method to compare the top few predictions to the actual home values (in `y`) for those same homes. Anything surprising?\n"
   ]
  },
  {
   "cell_type": "code",
   "execution_count": 13,
   "id": "0e4ae27b",
   "metadata": {
    "execution": {
     "iopub.execute_input": "2023-02-25T00:30:50.413119Z",
     "iopub.status.busy": "2023-02-25T00:30:50.412708Z",
     "iopub.status.idle": "2023-02-25T00:30:51.366088Z",
     "shell.execute_reply": "2023-02-25T00:30:51.364849Z"
    },
    "papermill": {
     "duration": 0.965509,
     "end_time": "2023-02-25T00:30:51.368699",
     "exception": false,
     "start_time": "2023-02-25T00:30:50.403190",
     "status": "completed"
    },
    "tags": []
   },
   "outputs": [
    {
     "data": {
      "text/plain": [
       "[<matplotlib.lines.Line2D at 0x7f874a5ec9d0>]"
      ]
     },
     "execution_count": 13,
     "metadata": {},
     "output_type": "execute_result"
    },
    {
     "data": {
      "image/png": "[encoded data removed]",
      "text/plain": [
       "<Figure size 640x480 with 1 Axes>"
      ]
     },
     "metadata": {},
     "output_type": "display_data"
    },
    {
     "data": {
      "image/png": "[encoded data removed]",
      "text/plain": [
       "<Figure size 640x480 with 1 Axes>"
      ]
     },
     "metadata": {},
     "output_type": "display_data"
    }
   ],
   "source": [
    "# You can write code in this cell\n",
    "home_data['SalePricePredictions'] = predictions\n",
    "\n",
    "ax = home_data.plot.scatter(x='SalePrice', y='SalePricePredictions')\n",
    "ax.set_xscale('log')\n",
    "ax.set_yscale('log')\n",
    "\n",
    "plt.figure()\n",
    "plt.plot(home_data.SalePricePredictions/home_data.SalePrice, '.')"
   ]
  },
  {
   "cell_type": "markdown",
   "id": "9e4f93cd",
   "metadata": {
    "papermill": {
     "duration": 0.008915,
     "end_time": "2023-02-25T00:30:51.386905",
     "exception": false,
     "start_time": "2023-02-25T00:30:51.377990",
     "status": "completed"
    },
    "tags": []
   },
   "source": [
    "## Visualize the decision tree"
   ]
  },
  {
   "cell_type": "code",
   "execution_count": 14,
   "id": "939e1374",
   "metadata": {
    "execution": {
     "iopub.execute_input": "2023-02-25T00:30:51.407407Z",
     "iopub.status.busy": "2023-02-25T00:30:51.407018Z",
     "iopub.status.idle": "2023-02-25T00:30:52.995726Z",
     "shell.execute_reply": "2023-02-25T00:30:52.994881Z"
    },
    "papermill": {
     "duration": 1.602014,
     "end_time": "2023-02-25T00:30:52.998364",
     "exception": false,
     "start_time": "2023-02-25T00:30:51.396350",
     "status": "completed"
    },
    "tags": []
   },
   "outputs": [
    {
     "data": {
      "image/png": "[encoded data removed]",
      "text/plain": [
       "<Figure size 640x480 with 1 Axes>"
      ]
     },
     "metadata": {},
     "output_type": "display_data"
    }
   ],
   "source": [
    "from sklearn import tree\n",
    "\n",
    "_ = tree.plot_tree(iowa_model, max_depth=3, feature_names=feature_names, filled=True)"
   ]
  },
  {
   "cell_type": "markdown",
   "id": "04e6ad3d",
   "metadata": {
    "papermill": {
     "duration": 0.009035,
     "end_time": "2023-02-25T00:30:53.017818",
     "exception": false,
     "start_time": "2023-02-25T00:30:53.008783",
     "status": "completed"
    },
    "tags": []
   },
   "source": [
    "It's natural to ask how accurate the model's predictions will be and how you can improve that. That will be you're next step.\n",
    "\n",
    "# Keep Going\n",
    "\n",
    "You are ready for **[Model Validation](https://www.kaggle.com/dansbecker/model-validation).**\n"
   ]
  },
  {
   "cell_type": "markdown",
   "id": "016a8e4d",
   "metadata": {
    "papermill": {
     "duration": 0.009113,
     "end_time": "2023-02-25T00:30:53.036316",
     "exception": false,
     "start_time": "2023-02-25T00:30:53.027203",
     "status": "completed"
    },
    "tags": []
   },
   "source": [
    "---\n",
    "\n",
    "\n",
    "\n",
    "\n",
    "*Have questions or comments? Visit the [course discussion forum](https://www.kaggle.com/learn/intro-to-machine-learning/discussion) to chat with other learners.*"
   ]
  }
 ],
 "metadata": {
  "kernelspec": {
   "display_name": "Python 3",
   "language": "python",
   "name": "python3"
  },
  "language_info": {
   "codemirror_mode": {
    "name": "ipython",
    "version": 3
   },
   "file_extension": ".py",
   "mimetype": "text/x-python",
   "name": "python",
   "nbconvert_exporter": "python",
   "pygments_lexer": "ipython3",
   "version": "3.7.12"
  },
  "papermill": {
   "default_parameters": {},
   "duration": 15.224303,
   "end_time": "2023-02-25T00:30:53.769461",
   "environment_variables": {},
   "exception": null,
   "input_path": "__notebook__.ipynb",
   "output_path": "__notebook__.ipynb",
   "parameters": {},
   "start_time": "2023-02-25T00:30:38.545158",
   "version": "2.4.0"
  }
 },
 "nbformat": 4,
 "nbformat_minor": 5
}
