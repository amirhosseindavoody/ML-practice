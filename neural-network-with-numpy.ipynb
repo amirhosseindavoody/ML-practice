{
 "cells": [
  {
   "cell_type": "markdown",
   "id": "dfe0906c",
   "metadata": {
    "papermill": {
     "duration": 0.007589,
     "end_time": "2023-02-14T01:56:33.732594",
     "exception": false,
     "start_time": "2023-02-14T01:56:33.725005",
     "status": "completed"
    },
    "tags": []
   },
   "source": [
    "# Notebook follows the implementation in [this tutorial](https://towardsdatascience.com/lets-code-a-neural-network-in-plain-numpy-ae7e74410795)."
   ]
  },
  {
   "cell_type": "code",
   "execution_count": 1,
   "id": "af32a327",
   "metadata": {
    "_cell_guid": "ac74ce33-00ed-41c7-bb02-e6df92f5ac8e",
    "_uuid": "bf89d2b7-6566-4ba5-9f92-9e9259098d22",
    "collapsed": false,
    "execution": {
     "iopub.execute_input": "2023-02-14T01:56:33.749354Z",
     "iopub.status.busy": "2023-02-14T01:56:33.747751Z",
     "iopub.status.idle": "2023-02-14T01:56:34.760251Z",
     "shell.execute_reply": "2023-02-14T01:56:34.758711Z"
    },
    "jupyter": {
     "outputs_hidden": false
    },
    "papermill": {
     "duration": 1.023428,
     "end_time": "2023-02-14T01:56:34.762787",
     "exception": false,
     "start_time": "2023-02-14T01:56:33.739359",
     "status": "completed"
    },
    "tags": []
   },
   "outputs": [
    {
     "name": "stdout",
     "output_type": "stream",
     "text": [
      "/kaggle/input/2d-2class-dataset/2d-2class-dataset.csv\n"
     ]
    }
   ],
   "source": [
    "# This Python 3 environment comes with many helpful analytics libraries installed\n",
    "# It is defined by the kaggle/python Docker image: https://github.com/kaggle/docker-python\n",
    "# For example, here's several helpful packages to load\n",
    "\n",
    "import numpy as np # linear algebra\n",
    "import pandas as pd # data processing, CSV file I/O (e.g. pd.read_csv)\n",
    "import matplotlib.pyplot as plt\n",
    "import seaborn as sns\n",
    "from tqdm import tqdm\n",
    "\n",
    "# Input data files are available in the read-only \"../input/\" directory\n",
    "# For example, running this (by clicking run or pressing Shift+Enter) will list all files under the input directory\n",
    "\n",
    "import os\n",
    "for dirname, _, filenames in os.walk('/kaggle/input'):\n",
    "    for filename in filenames:\n",
    "        print(os.path.join(dirname, filename))\n",
    "\n",
    "# You can write up to 20GB to the current directory (/kaggle/working/) that gets preserved as output when you create a version using \"Save & Run All\" \n",
    "# You can also write temporary files to /kaggle/temp/, but they won't be saved outside of the current session"
   ]
  },
  {
   "cell_type": "markdown",
   "id": "2d8121ad",
   "metadata": {
    "papermill": {
     "duration": 0.006234,
     "end_time": "2023-02-14T01:56:34.775864",
     "exception": false,
     "start_time": "2023-02-14T01:56:34.769630",
     "status": "completed"
    },
    "tags": []
   },
   "source": [
    "# Load the dataset\n",
    "\n",
    "A 2D dataset has been created using [this tool](http://notmatthancock.github.io/software/dataset2d/)"
   ]
  },
  {
   "cell_type": "code",
   "execution_count": 2,
   "id": "f58fddd2",
   "metadata": {
    "execution": {
     "iopub.execute_input": "2023-02-14T01:56:34.791167Z",
     "iopub.status.busy": "2023-02-14T01:56:34.790695Z",
     "iopub.status.idle": "2023-02-14T01:56:35.038826Z",
     "shell.execute_reply": "2023-02-14T01:56:35.037996Z"
    },
    "papermill": {
     "duration": 0.258309,
     "end_time": "2023-02-14T01:56:35.040609",
     "exception": false,
     "start_time": "2023-02-14T01:56:34.782300",
     "status": "completed"
    },
    "tags": []
   },
   "outputs": [
    {
     "data": {
      "text/plain": [
       "<AxesSubplot:xlabel='x', ylabel='y'>"
      ]
     },
     "execution_count": 2,
     "metadata": {},
     "output_type": "execute_result"
    },
    {
     "data": {
      "image/png": "[encoded data removed]",
      "text/plain": [
       "<Figure size 432x288 with 1 Axes>"
      ]
     },
     "metadata": {
      "needs_background": "light"
     },
     "output_type": "display_data"
    }
   ],
   "source": [
    "df = pd.read_csv(\"/kaggle/input/2d-2class-dataset/2d-2class-dataset.csv\", )\n",
    "df.columns = ['x', 'y', 'label']\n",
    "sns.scatterplot(data=df, x='x', y='y', style='label', hue='label')"
   ]
  },
  {
   "cell_type": "markdown",
   "id": "5a3ac39a",
   "metadata": {
    "papermill": {
     "duration": 0.006367,
     "end_time": "2023-02-14T01:56:35.054370",
     "exception": false,
     "start_time": "2023-02-14T01:56:35.048003",
     "status": "completed"
    },
    "tags": []
   },
   "source": [
    "# Reshape the input and output data to the proper size\n",
    "* `input = [2xN]`\n",
    "*`output = [1xN]`\n",
    "\n",
    "where `N` is the number of labeled samples."
   ]
  },
  {
   "cell_type": "code",
   "execution_count": 3,
   "id": "fccb598a",
   "metadata": {
    "execution": {
     "iopub.execute_input": "2023-02-14T01:56:35.070089Z",
     "iopub.status.busy": "2023-02-14T01:56:35.069393Z",
     "iopub.status.idle": "2023-02-14T01:56:35.076201Z",
     "shell.execute_reply": "2023-02-14T01:56:35.075295Z"
    },
    "papermill": {
     "duration": 0.017686,
     "end_time": "2023-02-14T01:56:35.078529",
     "exception": false,
     "start_time": "2023-02-14T01:56:35.060843",
     "status": "completed"
    },
    "tags": []
   },
   "outputs": [
    {
     "name": "stdout",
     "output_type": "stream",
     "text": [
      "input array shape: (2, 82)\n",
      "output array shape: (1, 82)\n"
     ]
    }
   ],
   "source": [
    "input_array = df[['x','y']].to_numpy().T\n",
    "output_array = np.expand_dims(df['label'].to_numpy(), axis=0)\n",
    "print(f\"input array shape: {input_array.shape}\")\n",
    "print(f\"output array shape: {output_array.shape}\")"
   ]
  },
  {
   "cell_type": "markdown",
   "id": "8b0d344e",
   "metadata": {
    "papermill": {
     "duration": 0.006507,
     "end_time": "2023-02-14T01:56:35.092486",
     "exception": false,
     "start_time": "2023-02-14T01:56:35.085979",
     "status": "completed"
    },
    "tags": []
   },
   "source": [
    "# Define the architecture\n",
    "Check that `output_dim` of each layer matches the `input_dim` of the next layer."
   ]
  },
  {
   "cell_type": "code",
   "execution_count": 4,
   "id": "09be1af2",
   "metadata": {
    "execution": {
     "iopub.execute_input": "2023-02-14T01:56:35.108719Z",
     "iopub.status.busy": "2023-02-14T01:56:35.108212Z",
     "iopub.status.idle": "2023-02-14T01:56:35.115562Z",
     "shell.execute_reply": "2023-02-14T01:56:35.114804Z"
    },
    "papermill": {
     "duration": 0.018226,
     "end_time": "2023-02-14T01:56:35.117276",
     "exception": false,
     "start_time": "2023-02-14T01:56:35.099050",
     "status": "completed"
    },
    "tags": []
   },
   "outputs": [],
   "source": [
    "nn_architecture = [\n",
    "    {\"input_dim\": 2, \"output_dim\": 4, \"activation\": \"relu\"},\n",
    "    {\"input_dim\": 4, \"output_dim\": 6, \"activation\": \"relu\"},\n",
    "    {\"input_dim\": 6, \"output_dim\": 6, \"activation\": \"relu\"},\n",
    "    {\"input_dim\": 6, \"output_dim\": 4, \"activation\": \"relu\"},\n",
    "    {\"input_dim\": 4, \"output_dim\": 1, \"activation\": \"sigmoid\"},\n",
    "]\n",
    "\n",
    "def validate_architecture(nn_architecture):\n",
    "    output_dim = None\n",
    "    for idx, layer in enumerate(nn_architecture):\n",
    "        if (output_dim != None) and (layer[\"input_dim\"]!=output_dim):\n",
    "            return f\"Output_dim of {idx-1} layer ({output_dim}) does not match input_dim of {idx} layer ({layer['input_dim']})\"\n",
    "        output_dim = layer[\"output_dim\"]\n",
    "    return \"\"\n",
    "\n",
    "assert validate_architecture(nn_architecture) == \"\", validate_architecture(nn_architecture)"
   ]
  },
  {
   "cell_type": "markdown",
   "id": "fd5e71ce",
   "metadata": {
    "papermill": {
     "duration": 0.006523,
     "end_time": "2023-02-14T01:56:35.130479",
     "exception": false,
     "start_time": "2023-02-14T01:56:35.123956",
     "status": "completed"
    },
    "tags": []
   },
   "source": [
    "# Initialize layer parameters\n",
    "## The parameters are initialized <u>randomly</u> with a value <u>close to 0</u>"
   ]
  },
  {
   "cell_type": "code",
   "execution_count": 5,
   "id": "ddcf230e",
   "metadata": {
    "_cell_guid": "f2f41868-9787-4f90-b537-40ec3575dce9",
    "_uuid": "1fff39f6-da5f-4332-94e2-a921625a396a",
    "collapsed": false,
    "execution": {
     "iopub.execute_input": "2023-02-14T01:56:35.146397Z",
     "iopub.status.busy": "2023-02-14T01:56:35.145670Z",
     "iopub.status.idle": "2023-02-14T01:56:35.153126Z",
     "shell.execute_reply": "2023-02-14T01:56:35.152093Z"
    },
    "jupyter": {
     "outputs_hidden": false
    },
    "papermill": {
     "duration": 0.01788,
     "end_time": "2023-02-14T01:56:35.155048",
     "exception": false,
     "start_time": "2023-02-14T01:56:35.137168",
     "status": "completed"
    },
    "tags": []
   },
   "outputs": [],
   "source": [
    "def init_layers(nn_architecture, seed=99):\n",
    "    np.random.seed(seed)\n",
    "    number_of_layers = len(nn_architecture)\n",
    "    params_values={}\n",
    "    \n",
    "    for idx, layer in enumerate(nn_architecture):\n",
    "        layer_idx = idx + 1\n",
    "        layer_input_size = layer[\"input_dim\"]\n",
    "        layer_output_size = layer[\"output_dim\"]\n",
    "        \n",
    "        params_values['W' + str(layer_idx)] = np.random.randn(layer_output_size, layer_input_size) * 0.1\n",
    "        params_values['b' + str(layer_idx)] = np.random.randn(layer_output_size, 1) * 0.1\n",
    "        \n",
    "    return params_values\n",
    "\n",
    "params_values = init_layers(nn_architecture, seed=99)"
   ]
  },
  {
   "cell_type": "code",
   "execution_count": 6,
   "id": "92a0e020",
   "metadata": {
    "execution": {
     "iopub.execute_input": "2023-02-14T01:56:35.170978Z",
     "iopub.status.busy": "2023-02-14T01:56:35.170199Z",
     "iopub.status.idle": "2023-02-14T01:56:35.178884Z",
     "shell.execute_reply": "2023-02-14T01:56:35.177194Z"
    },
    "papermill": {
     "duration": 0.020555,
     "end_time": "2023-02-14T01:56:35.182302",
     "exception": false,
     "start_time": "2023-02-14T01:56:35.161747",
     "status": "completed"
    },
    "tags": []
   },
   "outputs": [
    {
     "name": "stdout",
     "output_type": "stream",
     "text": [
      "W1: (4, 2)  ,  b1: (4, 1)\n",
      "W2: (6, 4)  ,  b2: (6, 1)\n",
      "W3: (6, 6)  ,  b3: (6, 1)\n",
      "W4: (4, 6)  ,  b4: (4, 1)\n",
      "W5: (1, 4)  ,  b5: (1, 1)\n"
     ]
    }
   ],
   "source": [
    "# Display the dimension of parameters in each layer.\n",
    "\n",
    "def display_params_dims(params):\n",
    "    layers = [[None, None] for i in range(len(params)//2)]\n",
    "    for k, v in params.items():\n",
    "        layer_number = int(k[1:])\n",
    "        param_type = k[0]\n",
    "        if param_type == 'W':\n",
    "            layers[layer_number-1][0] = v.shape\n",
    "        if param_type == 'b':\n",
    "            layers[layer_number-1][1] = v.shape\n",
    "    \n",
    "    for idx, layer in enumerate(layers):\n",
    "        print(f\"W{idx+1}: {layer[0]}  ,  b{idx+1}: {layer[1]}\")\n",
    "        \n",
    "display_params_dims(params_values)"
   ]
  },
  {
   "cell_type": "markdown",
   "id": "78a57b68",
   "metadata": {
    "papermill": {
     "duration": 0.006409,
     "end_time": "2023-02-14T01:56:35.196408",
     "exception": false,
     "start_time": "2023-02-14T01:56:35.189999",
     "status": "completed"
    },
    "tags": []
   },
   "source": [
    "# Define the activation functions and their derivatives\n",
    "The derivatives are needed for the backpropagation step."
   ]
  },
  {
   "cell_type": "code",
   "execution_count": 7,
   "id": "e665ff89",
   "metadata": {
    "execution": {
     "iopub.execute_input": "2023-02-14T01:56:35.211667Z",
     "iopub.status.busy": "2023-02-14T01:56:35.210994Z",
     "iopub.status.idle": "2023-02-14T01:56:35.217938Z",
     "shell.execute_reply": "2023-02-14T01:56:35.217301Z"
    },
    "papermill": {
     "duration": 0.016777,
     "end_time": "2023-02-14T01:56:35.219619",
     "exception": false,
     "start_time": "2023-02-14T01:56:35.202842",
     "status": "completed"
    },
    "tags": []
   },
   "outputs": [],
   "source": [
    "def sigmoid(Z):\n",
    "    sig = 1/(1+np.exp(-Z))\n",
    "    sig = np.minimum(sig, 0.9999)  # Set upper bound\n",
    "    sig = np.maximum(sig, 0.0001)  # Set lower bound\n",
    "    return sig\n",
    "\n",
    "def relu(Z):\n",
    "    return np.maximum(0,Z)\n",
    "\n",
    "def sigmoid_backward(dA, Z):\n",
    "    '''\n",
    "    dA: array-like\n",
    "        Gradient of the activation function from the next layer (closer to the output).\n",
    "        Note that when dowing the backward propagation we use the gradient of layers\n",
    "        closer to the output to calculate the gradient of the layers \n",
    "        the earlier layers closer to the input.\n",
    "    '''\n",
    "    sig = sigmoid(Z)\n",
    "    return dA * sig * (1-sig)\n",
    "\n",
    "def relu_backward(dA, Z):\n",
    "    dZ = np.array(dA, copy = True)\n",
    "    dZ[Z <= 0] = 0;\n",
    "    return dZ;"
   ]
  },
  {
   "cell_type": "markdown",
   "id": "5a548fc8",
   "metadata": {
    "papermill": {
     "duration": 0.006211,
     "end_time": "2023-02-14T01:56:35.232477",
     "exception": false,
     "start_time": "2023-02-14T01:56:35.226266",
     "status": "completed"
    },
    "tags": []
   },
   "source": [
    "# Forward propagation\n",
    "\n",
    "## First implement a function for forward propagation through a single layer\n",
    "We return both activation function results $A$ and the intermediate value $Z$ which is needed for the backpropagation step."
   ]
  },
  {
   "cell_type": "code",
   "execution_count": 8,
   "id": "4adb1db7",
   "metadata": {
    "execution": {
     "iopub.execute_input": "2023-02-14T01:56:35.249934Z",
     "iopub.status.busy": "2023-02-14T01:56:35.249471Z",
     "iopub.status.idle": "2023-02-14T01:56:35.256431Z",
     "shell.execute_reply": "2023-02-14T01:56:35.255202Z"
    },
    "papermill": {
     "duration": 0.018598,
     "end_time": "2023-02-14T01:56:35.259137",
     "exception": false,
     "start_time": "2023-02-14T01:56:35.240539",
     "status": "completed"
    },
    "tags": []
   },
   "outputs": [],
   "source": [
    "def single_layer_forward_propagation(A_prev, W_curr, b_curr, activation=\"relu\"):\n",
    "    '''\n",
    "    Single layer forward propagation\n",
    "    \n",
    "    Parameters:\n",
    "    -----------\n",
    "    A_prev: np.array, [N_prev,1]\n",
    "        output of the previous layer which is input to the current layer\n",
    "    W_curr: np.array, [N_curr, N_prev]\n",
    "        The weights for the current layer\n",
    "    b_curr: np.array, [N_curr, 1]\n",
    "        The biases for the current layer\n",
    "    activation: str\n",
    "        The type of the activation function\n",
    "    \n",
    "    Returns:\n",
    "    --------\n",
    "    Tuple of length 2: (activation_func(Z_curr), Z_curr)\n",
    "    '''\n",
    "    Z_curr = np.dot(W_curr, A_prev) + b_curr\n",
    "    \n",
    "    if activation is \"relu\":\n",
    "        activation_func = relu\n",
    "    elif activation is \"sigmoid\":\n",
    "        activation_func = sigmoid\n",
    "    else:\n",
    "        raise Exception('Non-supported activation function')\n",
    "        \n",
    "    return activation_func(Z_curr), Z_curr"
   ]
  },
  {
   "cell_type": "markdown",
   "id": "a1724313",
   "metadata": {
    "papermill": {
     "duration": 0.007131,
     "end_time": "2023-02-14T01:56:35.274128",
     "exception": false,
     "start_time": "2023-02-14T01:56:35.266997",
     "status": "completed"
    },
    "tags": []
   },
   "source": [
    "## Perform a forward propagation through the whole network"
   ]
  },
  {
   "cell_type": "code",
   "execution_count": 9,
   "id": "e800a8c6",
   "metadata": {
    "execution": {
     "iopub.execute_input": "2023-02-14T01:56:35.292205Z",
     "iopub.status.busy": "2023-02-14T01:56:35.291372Z",
     "iopub.status.idle": "2023-02-14T01:56:35.299408Z",
     "shell.execute_reply": "2023-02-14T01:56:35.297976Z"
    },
    "papermill": {
     "duration": 0.019328,
     "end_time": "2023-02-14T01:56:35.302016",
     "exception": false,
     "start_time": "2023-02-14T01:56:35.282688",
     "status": "completed"
    },
    "tags": []
   },
   "outputs": [],
   "source": [
    "def full_forward_propagation(X, params_values, nn_architecture):\n",
    "    '''\n",
    "    \n",
    "    Parameters:\n",
    "    -----------\n",
    "    X : array-like, [N, M]\n",
    "        The input values to the neural network.\n",
    "        N is the number of features in each sample point.\n",
    "        M is the number of sample points in the training set.\n",
    "    params_value: dictionary\n",
    "        Dictionary the parameters in the following form\n",
    "        `{'W1': ..., 'b1': ..., 'W2': ..., etc.}`\n",
    "    nn_architecture: list-like\n",
    "        List of neural network architecture in the following form.\n",
    "        It is used to identify the type of the activation function in each layer\n",
    "        `[{\"input_dim\": 2, \"output_dim\": 4, \"activation\": \"relu\"}, ...]`\n",
    "    \n",
    "    Returns:\n",
    "    --------\n",
    "    (A_curr, memory):\n",
    "        `A_curr` is the activation output from the last layer.\n",
    "        `memory` is the dictionary of the activation outputs and intermediate\n",
    "        Z vlaues for each layer in the following form\n",
    "        `{'A1': ..., 'Z1': ..., 'A2': ..., etc}`\n",
    "        \n",
    "    '''\n",
    "    memory = {}\n",
    "    A_curr = X\n",
    "    \n",
    "    for idx, layer in enumerate(nn_architecture):\n",
    "        layer_idx = idx + 1\n",
    "        A_prev = A_curr\n",
    "        \n",
    "        activ_function_curr = layer[\"activation\"]\n",
    "        W_curr = params_values[\"W\" + str(layer_idx)]\n",
    "        b_curr = params_values[\"b\" + str(layer_idx)]\n",
    "        A_curr, Z_curr = single_layer_forward_propagation(A_prev, W_curr, b_curr, activ_function_curr)\n",
    "        \n",
    "        memory[\"A\" + str(idx)] = A_prev\n",
    "        memory[\"Z\" + str(layer_idx)] = Z_curr\n",
    "       \n",
    "    return A_curr, memory"
   ]
  },
  {
   "cell_type": "code",
   "execution_count": 10,
   "id": "047b876a",
   "metadata": {
    "execution": {
     "iopub.execute_input": "2023-02-14T01:56:35.319101Z",
     "iopub.status.busy": "2023-02-14T01:56:35.318384Z",
     "iopub.status.idle": "2023-02-14T01:56:35.324410Z",
     "shell.execute_reply": "2023-02-14T01:56:35.322906Z"
    },
    "papermill": {
     "duration": 0.016762,
     "end_time": "2023-02-14T01:56:35.326398",
     "exception": false,
     "start_time": "2023-02-14T01:56:35.309636",
     "status": "completed"
    },
    "tags": []
   },
   "outputs": [],
   "source": [
    "# Run the forward network through the training dataset once to make sure that the mechanics are working correctly.\n",
    "A_curr, memory = full_forward_propagation(input_array, params_values, nn_architecture)"
   ]
  },
  {
   "cell_type": "markdown",
   "id": "c4e250d1",
   "metadata": {
    "papermill": {
     "duration": 0.007752,
     "end_time": "2023-02-14T01:56:35.341628",
     "exception": false,
     "start_time": "2023-02-14T01:56:35.333876",
     "status": "completed"
    },
    "tags": []
   },
   "source": [
    "# Define the loss function\n",
    "Use binary cross-entropy as the loss function for the classification problem\n",
    "\n",
    "$$\n",
    "J(W,b) = \\frac{1}{m} \\sum_{i=1}^{m} L\\left(\\hat{y}^{(i)},y^{(i}\\right)\n",
    "$$\n",
    "\n",
    "$$\n",
    "L\\left(\\hat{y}^{(i)},y^{(i}\\right) = -\\left(y \\log \\hat{y} + (1-y) \\log(1-\\hat{y}) \\right)\n",
    "$$\n",
    "\n",
    "where $m$ is the number training data points."
   ]
  },
  {
   "cell_type": "code",
   "execution_count": 11,
   "id": "974464a0",
   "metadata": {
    "execution": {
     "iopub.execute_input": "2023-02-14T01:56:35.358117Z",
     "iopub.status.busy": "2023-02-14T01:56:35.357462Z",
     "iopub.status.idle": "2023-02-14T01:56:35.364081Z",
     "shell.execute_reply": "2023-02-14T01:56:35.363453Z"
    },
    "papermill": {
     "duration": 0.018116,
     "end_time": "2023-02-14T01:56:35.366976",
     "exception": false,
     "start_time": "2023-02-14T01:56:35.348860",
     "status": "completed"
    },
    "tags": []
   },
   "outputs": [],
   "source": [
    "def get_cost_value(Y_hat, Y):\n",
    "    m = Y_hat.shape[1]\n",
    "    cost = -1 / m * (np.dot(Y, np.log(Y_hat).T) + np.dot(1 - Y, np.log(1 - Y_hat).T))\n",
    "    return np.squeeze(cost)\n",
    "\n",
    "def convert_prob_into_class(probs):\n",
    "    '''\n",
    "    Convert the probability (value of the last Sigmoid layer) to a class (0 or 1)\n",
    "    '''\n",
    "    class_ = np.copy(probs)\n",
    "    class_[probs > 0.5] = 1\n",
    "    class_[probs <= 0.5] = 0\n",
    "    return class_\n",
    "\n",
    "def get_accuracy_value(Y_hat, Y):\n",
    "    Y_hat_ = convert_prob_into_class(Y_hat)\n",
    "    return (Y_hat_ == Y).all(axis=0).mean()"
   ]
  },
  {
   "cell_type": "markdown",
   "id": "465dddd1",
   "metadata": {
    "papermill": {
     "duration": 0.007728,
     "end_time": "2023-02-14T01:56:35.382778",
     "exception": false,
     "start_time": "2023-02-14T01:56:35.375050",
     "status": "completed"
    },
    "tags": []
   },
   "source": [
    "# Backward propagation"
   ]
  },
  {
   "cell_type": "code",
   "execution_count": 12,
   "id": "bdb1e341",
   "metadata": {
    "execution": {
     "iopub.execute_input": "2023-02-14T01:56:35.400264Z",
     "iopub.status.busy": "2023-02-14T01:56:35.399436Z",
     "iopub.status.idle": "2023-02-14T01:56:35.409935Z",
     "shell.execute_reply": "2023-02-14T01:56:35.408996Z"
    },
    "papermill": {
     "duration": 0.021923,
     "end_time": "2023-02-14T01:56:35.412058",
     "exception": false,
     "start_time": "2023-02-14T01:56:35.390135",
     "status": "completed"
    },
    "tags": []
   },
   "outputs": [],
   "source": [
    "def single_layer_backward_propagation(dA_curr, W_curr, b_curr, Z_curr, A_prev, activation=\"relu\"):\n",
    "    m = A_prev.shape[1]\n",
    "    \n",
    "    if activation is \"relu\":\n",
    "        backward_activation_func = relu_backward\n",
    "    elif activation is \"sigmoid\":\n",
    "        backward_activation_func = sigmoid_backward\n",
    "    else:\n",
    "        raise Exception('Non-supported activation function')\n",
    "    \n",
    "    dZ_curr = backward_activation_func(dA_curr, Z_curr)\n",
    "    dW_curr = np.dot(dZ_curr, A_prev.T) / m\n",
    "    db_curr = np.sum(dZ_curr, axis=1, keepdims=True) / m\n",
    "    dA_prev = np.dot(W_curr.T, dZ_curr)\n",
    "\n",
    "    return dA_prev, dW_curr, db_curr\n",
    "\n",
    "\n",
    "def full_backward_propagation(Y_hat, Y, memory, params_values, nn_architecture):\n",
    "    grads_values = {}\n",
    "    m = Y.shape[1]\n",
    "    Y = Y.reshape(Y_hat.shape)\n",
    "   \n",
    "    dA_prev = - (np.divide(Y, Y_hat) - np.divide(1 - Y, 1 - Y_hat));\n",
    "    \n",
    "    for layer_idx_prev, layer in reversed(list(enumerate(nn_architecture))):\n",
    "        layer_idx_curr = layer_idx_prev + 1\n",
    "        activ_function_curr = layer[\"activation\"]\n",
    "        \n",
    "        dA_curr = dA_prev\n",
    "        \n",
    "        A_prev = memory[\"A\" + str(layer_idx_prev)]\n",
    "        Z_curr = memory[\"Z\" + str(layer_idx_curr)]\n",
    "        W_curr = params_values[\"W\" + str(layer_idx_curr)]\n",
    "        b_curr = params_values[\"b\" + str(layer_idx_curr)]\n",
    "        \n",
    "        dA_prev, dW_curr, db_curr = single_layer_backward_propagation(\n",
    "            dA_curr, W_curr, b_curr, Z_curr, A_prev, activ_function_curr)\n",
    "        \n",
    "        grads_values[\"dW\" + str(layer_idx_curr)] = dW_curr\n",
    "        grads_values[\"db\" + str(layer_idx_curr)] = db_curr\n",
    "    \n",
    "    return grads_values"
   ]
  },
  {
   "cell_type": "code",
   "execution_count": 13,
   "id": "399df944",
   "metadata": {
    "execution": {
     "iopub.execute_input": "2023-02-14T01:56:35.430560Z",
     "iopub.status.busy": "2023-02-14T01:56:35.430089Z",
     "iopub.status.idle": "2023-02-14T01:56:35.436680Z",
     "shell.execute_reply": "2023-02-14T01:56:35.435748Z"
    },
    "papermill": {
     "duration": 0.018421,
     "end_time": "2023-02-14T01:56:35.438634",
     "exception": false,
     "start_time": "2023-02-14T01:56:35.420213",
     "status": "completed"
    },
    "tags": []
   },
   "outputs": [],
   "source": [
    "# Run the forward and backward network through the training dataset once to make sure that the mechanics are working correctly.\n",
    "A_curr, memory = full_forward_propagation(input_array, params_values, nn_architecture)\n",
    "grads_values = full_backward_propagation(A_curr, output_array, memory, params_values, nn_architecture)"
   ]
  },
  {
   "cell_type": "markdown",
   "id": "345f9199",
   "metadata": {
    "papermill": {
     "duration": 0.006352,
     "end_time": "2023-02-14T01:56:35.452187",
     "exception": false,
     "start_time": "2023-02-14T01:56:35.445835",
     "status": "completed"
    },
    "tags": []
   },
   "source": [
    "# Update weight parameters using learning_rate $\\alpha$\n",
    "\n",
    "$$\n",
    "W^{[l]} = W^{[l]} - \\alpha \\times dW^{[l]}\n",
    "$$\n",
    "\n",
    "$$\n",
    "b^{[l]} = b^{[l]} - \\alpha \\times db^{[l]}\n",
    "$$"
   ]
  },
  {
   "cell_type": "code",
   "execution_count": 14,
   "id": "3f157c89",
   "metadata": {
    "execution": {
     "iopub.execute_input": "2023-02-14T01:56:35.467849Z",
     "iopub.status.busy": "2023-02-14T01:56:35.467165Z",
     "iopub.status.idle": "2023-02-14T01:56:35.472980Z",
     "shell.execute_reply": "2023-02-14T01:56:35.471735Z"
    },
    "papermill": {
     "duration": 0.016565,
     "end_time": "2023-02-14T01:56:35.475233",
     "exception": false,
     "start_time": "2023-02-14T01:56:35.458668",
     "status": "completed"
    },
    "tags": []
   },
   "outputs": [],
   "source": [
    "def update(params_values, grads_values, nn_architecture, learning_rate):\n",
    "    for layer_idx, layer in enumerate(nn_architecture):\n",
    "        params_values[\"W\" + str(layer_idx+1)] -= learning_rate * grads_values[\"dW\" + str(layer_idx+1)]        \n",
    "        params_values[\"b\" + str(layer_idx+1)] -= learning_rate * grads_values[\"db\" + str(layer_idx+1)]\n",
    "\n",
    "    return params_values"
   ]
  },
  {
   "cell_type": "markdown",
   "id": "bfb6edd2",
   "metadata": {
    "papermill": {
     "duration": 0.006473,
     "end_time": "2023-02-14T01:56:35.489081",
     "exception": false,
     "start_time": "2023-02-14T01:56:35.482608",
     "status": "completed"
    },
    "tags": []
   },
   "source": [
    "# Train the neural network on a dataset"
   ]
  },
  {
   "cell_type": "code",
   "execution_count": 15,
   "id": "a6e2f026",
   "metadata": {
    "execution": {
     "iopub.execute_input": "2023-02-14T01:56:35.504873Z",
     "iopub.status.busy": "2023-02-14T01:56:35.504355Z",
     "iopub.status.idle": "2023-02-14T01:56:35.511501Z",
     "shell.execute_reply": "2023-02-14T01:56:35.510529Z"
    },
    "papermill": {
     "duration": 0.017613,
     "end_time": "2023-02-14T01:56:35.513430",
     "exception": false,
     "start_time": "2023-02-14T01:56:35.495817",
     "status": "completed"
    },
    "tags": []
   },
   "outputs": [],
   "source": [
    "\n",
    "def train(X, Y, nn_architecture, epochs, learning_rate, seed=3):\n",
    "    params_values = init_layers(nn_architecture, seed)\n",
    "    cost_history = []\n",
    "    accuracy_history = []\n",
    "    \n",
    "    for i in tqdm(range(epochs)):\n",
    "        Y_hat, cache = full_forward_propagation(X, params_values, nn_architecture)\n",
    "        cost = get_cost_value(Y_hat, Y)\n",
    "        cost_history.append(cost)\n",
    "        accuracy = get_accuracy_value(Y_hat, Y)\n",
    "        accuracy_history.append(accuracy)\n",
    "        \n",
    "#         if ((Y_hat==1).any() or (Y_hat==0).any()):\n",
    "#             print(i)\n",
    "#             print(Y_hat==1)\n",
    "#             print(Y_hat==0)\n",
    "#             print(\"Division by zero\")\n",
    "#             print(cache)\n",
    "#             break\n",
    "        \n",
    "        grads_values = full_backward_propagation(Y_hat, Y, cache, params_values, nn_architecture)\n",
    "        params_values = update(params_values, grads_values, nn_architecture, learning_rate)\n",
    "            \n",
    "    print(\"finished epochs\")\n",
    "        \n",
    "    return params_values, cost_history, accuracy_history"
   ]
  },
  {
   "cell_type": "code",
   "execution_count": 16,
   "id": "a7117065",
   "metadata": {
    "execution": {
     "iopub.execute_input": "2023-02-14T01:56:35.530684Z",
     "iopub.status.busy": "2023-02-14T01:56:35.530261Z",
     "iopub.status.idle": "2023-02-14T01:57:26.219011Z",
     "shell.execute_reply": "2023-02-14T01:57:26.217806Z"
    },
    "papermill": {
     "duration": 50.699988,
     "end_time": "2023-02-14T01:57:26.221187",
     "exception": false,
     "start_time": "2023-02-14T01:56:35.521199",
     "status": "completed"
    },
    "tags": []
   },
   "outputs": [
    {
     "name": "stderr",
     "output_type": "stream",
     "text": [
      "100%|██████████| 200001/200001 [00:50<00:00, 3978.52it/s]\n"
     ]
    },
    {
     "name": "stdout",
     "output_type": "stream",
     "text": [
      "finished epochs\n",
      "Done with the training\n"
     ]
    },
    {
     "data": {
      "text/plain": [
       "[<matplotlib.lines.Line2D at 0x7fcb454a3210>]"
      ]
     },
     "execution_count": 16,
     "metadata": {},
     "output_type": "execute_result"
    },
    {
     "data": {
      "image/png": "[encoded data removed]",
      "text/plain": [
       "<Figure size 432x288 with 1 Axes>"
      ]
     },
     "metadata": {
      "needs_background": "light"
     },
     "output_type": "display_data"
    },
    {
     "data": {
      "image/png": "[encoded data removed]",
      "text/plain": [
       "<Figure size 432x288 with 1 Axes>"
      ]
     },
     "metadata": {
      "needs_background": "light"
     },
     "output_type": "display_data"
    }
   ],
   "source": [
    "np.seterr(divide = 'print') \n",
    "\n",
    "params_values, cost_history, accuracy_history = train(input_array, output_array, nn_architecture, 200001, 0.001, seed=5)\n",
    "\n",
    "print(\"Done with the training\")\n",
    "\n",
    "plt.plot(cost_history)\n",
    "plt.figure()\n",
    "plt.plot(accuracy_history)"
   ]
  },
  {
   "cell_type": "code",
   "execution_count": 17,
   "id": "fae971e2",
   "metadata": {
    "execution": {
     "iopub.execute_input": "2023-02-14T01:57:26.291125Z",
     "iopub.status.busy": "2023-02-14T01:57:26.289583Z",
     "iopub.status.idle": "2023-02-14T01:57:26.568983Z",
     "shell.execute_reply": "2023-02-14T01:57:26.567413Z"
    },
    "papermill": {
     "duration": 0.31646,
     "end_time": "2023-02-14T01:57:26.571630",
     "exception": false,
     "start_time": "2023-02-14T01:57:26.255170",
     "status": "completed"
    },
    "tags": []
   },
   "outputs": [
    {
     "data": {
      "text/plain": [
       "<AxesSubplot:xlabel='x', ylabel='y'>"
      ]
     },
     "execution_count": 17,
     "metadata": {},
     "output_type": "execute_result"
    },
    {
     "data": {
      "image/png": "[encoded data removed]",
      "text/plain": [
       "<Figure size 432x288 with 2 Axes>"
      ]
     },
     "metadata": {
      "needs_background": "light"
     },
     "output_type": "display_data"
    }
   ],
   "source": [
    "x = np.linspace(df['x'].min(), df['x'].max(), 101)\n",
    "y = np.linspace(df['y'].min(), df['y'].max(), 101)\n",
    "xx, yy = np.meshgrid(x,y)\n",
    "Y_hat, _ = full_forward_propagation(\n",
    "    np.vstack([xx.flatten(), yy.flatten()]),\n",
    "    params_values,\n",
    "    nn_architecture)\n",
    "predict_class = convert_prob_into_class(Y_hat).reshape((101, 101))\n",
    "\n",
    "predict_class.shape, x.shape, y.shape\n",
    "plt.contourf(x, y, predict_class)\n",
    "plt.axis('scaled')\n",
    "plt.colorbar()\n",
    "sns.scatterplot(data=df, x='x', y='y', style='label', hue='label')"
   ]
  },
  {
   "cell_type": "code",
   "execution_count": null,
   "id": "cb8f86bb",
   "metadata": {
    "papermill": {
     "duration": 0.034337,
     "end_time": "2023-02-14T01:57:26.641582",
     "exception": false,
     "start_time": "2023-02-14T01:57:26.607245",
     "status": "completed"
    },
    "tags": []
   },
   "outputs": [],
   "source": []
  },
  {
   "cell_type": "code",
   "execution_count": null,
   "id": "3f4e06ef",
   "metadata": {
    "execution": {
     "iopub.execute_input": "2023-02-14T00:51:17.152310Z",
     "iopub.status.busy": "2023-02-14T00:51:17.151831Z",
     "iopub.status.idle": "2023-02-14T00:51:17.159834Z",
     "shell.execute_reply": "2023-02-14T00:51:17.158528Z",
     "shell.execute_reply.started": "2023-02-14T00:51:17.152273Z"
    },
    "papermill": {
     "duration": 0.033432,
     "end_time": "2023-02-14T01:57:26.709126",
     "exception": false,
     "start_time": "2023-02-14T01:57:26.675694",
     "status": "completed"
    },
    "tags": []
   },
   "outputs": [],
   "source": []
  },
  {
   "cell_type": "code",
   "execution_count": null,
   "id": "f3f05258",
   "metadata": {
    "papermill": {
     "duration": 0.035269,
     "end_time": "2023-02-14T01:57:26.780461",
     "exception": false,
     "start_time": "2023-02-14T01:57:26.745192",
     "status": "completed"
    },
    "tags": []
   },
   "outputs": [],
   "source": []
  }
 ],
 "metadata": {
  "kernelspec": {
   "display_name": "Python 3",
   "language": "python",
   "name": "python3"
  },
  "language_info": {
   "codemirror_mode": {
    "name": "ipython",
    "version": 3
   },
   "file_extension": ".py",
   "mimetype": "text/x-python",
   "name": "python",
   "nbconvert_exporter": "python",
   "pygments_lexer": "ipython3",
   "version": "3.7.12"
  },
  "papermill": {
   "default_parameters": {},
   "duration": 61.197056,
   "end_time": "2023-02-14T01:57:27.741159",
   "environment_variables": {},
   "exception": null,
   "input_path": "__notebook__.ipynb",
   "output_path": "__notebook__.ipynb",
   "parameters": {},
   "start_time": "2023-02-14T01:56:26.544103",
   "version": "2.3.4"
  }
 },
 "nbformat": 4,
 "nbformat_minor": 5
}
